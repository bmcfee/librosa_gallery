{
  "cells": [
    {
      "cell_type": "code",
      "outputs": [],
      "source": [
        "%matplotlib inline"
      ],
      "execution_count": null,
      "metadata": {
        "collapsed": false
      }
    },
    {
      "cell_type": "markdown",
      "source": [
        "\n# Presets\n\n\nThis notebook demonstrates how to use the `presets` package to change the\ndefault parameters for librosa.\n\n"
      ],
      "metadata": {}
    },
    {
      "cell_type": "code",
      "outputs": [],
      "source": [
        "# Code source: Brian McFee\n# License: ISC"
      ],
      "execution_count": null,
      "metadata": {
        "collapsed": false
      }
    },
    {
      "cell_type": "markdown",
      "source": [
        "We'll need numpy and matplotlib for this example\n\n"
      ],
      "metadata": {}
    },
    {
      "cell_type": "code",
      "outputs": [],
      "source": [
        "from __future__ import print_function\nimport numpy as np\nimport matplotlib.pyplot as plt\n\n# Import the Preset class\nfrom presets import Preset\n\n\n# To use presets, we'll make a dummy import of librosa\n# and the display submodule here.\nimport librosa as _librosa\nimport librosa.display as _display\n# The assignment here is to circumvent python's inability\n# to rename submodule imports within the package\n_librosa.display = _display"
      ],
      "execution_count": null,
      "metadata": {
        "collapsed": false
      }
    },
    {
      "cell_type": "markdown",
      "source": [
        "By default, librosa uses the following parameters across all functions:\n  - `sr=22050` (sampling rate)\n  - `hop_length=512` (number of samples between frames)\n  - `n_fft=2048` (number of samples per frame in STFT-like analyses)\n\nYou may want to change these values to suit your application, but\ndoing so consistently in every function call can be somewhat cumbersome.\n\nPresets makes it easy to do this all at once by wrapping the module\nand all function calls, and overriding default arguments.\n\n"
      ],
      "metadata": {}
    },
    {
      "cell_type": "code",
      "outputs": [],
      "source": [
        "# First, we need to set up the preset-wrapped librosa import\n\nlibrosa = Preset(_librosa)\n\n# To change the default sampling rate, we can set the `sr` entry:\nlibrosa['sr'] = 44100\n\n# and similarly for hop_length and n_fft\nlibrosa['hop_length'] = 1024\nlibrosa['n_fft'] = 4096\n\n# In general, when you set `librosa['X']` for any string `X`, anywhere within\n# librosa where the parameter `X` occurs as a keyword-argument,\n# its default value will be replaced by whatever value you provide."
      ],
      "execution_count": null,
      "metadata": {
        "collapsed": false
      }
    },
    {
      "cell_type": "markdown",
      "source": [
        "Now we can load in a file and do some analysis with the new defaults\n\n"
      ],
      "metadata": {}
    },
    {
      "cell_type": "code",
      "outputs": [],
      "source": [
        "filename = 'audio/Karissa_Hobbs_-_09_-_Lets_Go_Fishin.mp3'\n\ny, sr = librosa.load(filename, duration=5, offset=35)\n\n# Generate a Mel spectrogram:\n\nM = librosa.feature.melspectrogram(y=y)\n\n# Of course, you can still override the new default manually, e.g.:\n\nM_highres = librosa.feature.melspectrogram(y=y, hop_length=512)\n\n\n# And plot the results\nplt.figure(figsize=(6, 6))\nax = plt.subplot(3, 1, 1)\n\nlibrosa.display.specshow(librosa.power_to_db(M, ref=np.max),\n                         y_axis='mel', x_axis='time')\n\nplt.title('44100/1024/4096')\n\nplt.subplot(3, 1, 2, sharex=ax, sharey=ax)\nlibrosa.display.specshow(librosa.power_to_db(M_highres, ref=np.max),\n                         hop_length=512,\n                         y_axis='mel', x_axis='time')\nplt.title('44100/512/4096')\n\n# We can repeat the whole process with different defaults, just by\n# updating the parameter entries\nlibrosa['sr'] = 11025\n\ny2, sr2 = librosa.load(filename, duration=5, offset=35)\nM2 = librosa.feature.melspectrogram(y=y2, sr=sr2)\n\nplt.subplot(3, 1, 3, sharex=ax, sharey=ax)\nlibrosa.display.specshow(librosa.power_to_db(M2, ref=np.max),\n                         y_axis='mel', x_axis='time')\n\nplt.title('11025/1024/4096')\n\nplt.tight_layout()\nplt.show()"
      ],
      "execution_count": null,
      "metadata": {
        "collapsed": false
      }
    }
  ],
  "nbformat": 4,
  "nbformat_minor": 0,
  "metadata": {
    "language_info": {
      "codemirror_mode": {
        "name": "ipython",
        "version": 3
      },
      "mimetype": "text/x-python",
      "name": "python",
      "version": "3.5.3",
      "file_extension": ".py",
      "nbconvert_exporter": "python",
      "pygments_lexer": "ipython3"
    },
    "kernelspec": {
      "name": "python3",
      "language": "python",
      "display_name": "Python 3"
    }
  }
}