{
  "cells": [
    {
      "cell_type": "code",
      "outputs": [],
      "source": [
        "%matplotlib inline"
      ],
      "execution_count": null,
      "metadata": {
        "collapsed": false
      }
    },
    {
      "cell_type": "markdown",
      "source": [
        "\n# Harmonic-percussive source separation\n\n\nThis notebook illustrates how to separate an audio signal into\nits harmonic and percussive components.\n\nWe'll compare the original median-filtering based approach of\n`Fitzgerald, 2010 <http://arrow.dit.ie/cgi/viewcontent.cgi?article=1078&context=argcon>`_\nand its margin-based extension due to `Dreidger, Mueller and Disch, 2014\n<http://www.terasoft.com.tw/conf/ismir2014/proceedings/T110_127_Paper.pdf>`_.\n\n\n\n"
      ],
      "metadata": {}
    },
    {
      "cell_type": "code",
      "outputs": [],
      "source": [
        "from __future__ import print_function\nimport numpy as np\nimport matplotlib.pyplot as plt\n\nimport librosa\nimport librosa.display"
      ],
      "execution_count": null,
      "metadata": {
        "collapsed": false
      }
    },
    {
      "cell_type": "markdown",
      "source": [
        "Load the example clip.\n\n"
      ],
      "metadata": {}
    },
    {
      "cell_type": "code",
      "outputs": [],
      "source": [
        "y, sr = librosa.load('audio/Karissa_Hobbs_-_09_-_Lets_Go_Fishin.mp3', offset=40, duration=10)"
      ],
      "execution_count": null,
      "metadata": {
        "collapsed": false
      }
    },
    {
      "cell_type": "markdown",
      "source": [
        "Compute the short-time Fourier transform of y\n\n"
      ],
      "metadata": {}
    },
    {
      "cell_type": "code",
      "outputs": [],
      "source": [
        "D = librosa.stft(y)"
      ],
      "execution_count": null,
      "metadata": {
        "collapsed": false
      }
    },
    {
      "cell_type": "markdown",
      "source": [
        "Decompose D into harmonic and percussive components\n\n$D = D_\\text{harmonic} + D_\\text{percussive}$\n\n"
      ],
      "metadata": {}
    },
    {
      "cell_type": "code",
      "outputs": [],
      "source": [
        "D_harmonic, D_percussive = librosa.decompose.hpss(D)"
      ],
      "execution_count": null,
      "metadata": {
        "collapsed": false
      }
    },
    {
      "cell_type": "markdown",
      "source": [
        "We can plot the two components along with the original spectrogram\n\n"
      ],
      "metadata": {}
    },
    {
      "cell_type": "code",
      "outputs": [],
      "source": [
        "# Pre-compute a global reference power from the input spectrum\nrp = np.max(np.abs(D))\n\nplt.figure(figsize=(12, 8))\n\nplt.subplot(3, 1, 1)\nlibrosa.display.specshow(librosa.amplitude_to_db(D, ref=rp), y_axis='log')\nplt.colorbar()\nplt.title('Full spectrogram')\n\nplt.subplot(3, 1, 2)\nlibrosa.display.specshow(librosa.amplitude_to_db(D_harmonic, ref=rp), y_axis='log')\nplt.colorbar()\nplt.title('Harmonic spectrogram')\n\nplt.subplot(3, 1, 3)\nlibrosa.display.specshow(librosa.amplitude_to_db(D_percussive, ref=rp), y_axis='log', x_axis='time')\nplt.colorbar()\nplt.title('Percussive spectrogram')\nplt.tight_layout()"
      ],
      "execution_count": null,
      "metadata": {
        "collapsed": false
      }
    },
    {
      "cell_type": "markdown",
      "source": [
        "The default HPSS above assigns energy to each time-frequency bin according to\nwhether a horizontal (harmonic) or vertical (percussive) filter responds higher\nat that position.\n\nThis assumes that all energy belongs to either a harmonic or percussive source,\nbut does not handle \"noise\" well.  Noise energy ends up getting spread between\nD_harmonic and D_percussive.\n\nIf we instead require that the horizontal filter responds more than the vertical\nfilter *by at least some margin*, and vice versa, then noise can be removed\nfrom both components.\n\nNote: the default (above) corresponds to margin=1\n\n"
      ],
      "metadata": {}
    },
    {
      "cell_type": "code",
      "outputs": [],
      "source": [
        "# Let's compute separations for a few different margins and compare the results below\nD_harmonic2, D_percussive2 = librosa.decompose.hpss(D, margin=2)\nD_harmonic4, D_percussive4 = librosa.decompose.hpss(D, margin=4)\nD_harmonic8, D_percussive8 = librosa.decompose.hpss(D, margin=8)\nD_harmonic16, D_percussive16 = librosa.decompose.hpss(D, margin=16)"
      ],
      "execution_count": null,
      "metadata": {
        "collapsed": false
      }
    },
    {
      "cell_type": "markdown",
      "source": [
        "In the plots below, note that vibrato has been suppressed from the harmonic\ncomponents, and vocals have been suppressed in the percussive components.\n\n"
      ],
      "metadata": {}
    },
    {
      "cell_type": "code",
      "outputs": [],
      "source": [
        "plt.figure(figsize=(10, 10))\n\nplt.subplot(5, 2, 1)\nlibrosa.display.specshow(librosa.amplitude_to_db(D_harmonic, ref=rp), y_axis='log')\nplt.title('Harmonic')\nplt.yticks([])\nplt.ylabel('margin=1')\n\nplt.subplot(5, 2, 2)\nlibrosa.display.specshow(librosa.amplitude_to_db(D_percussive, ref=rp), y_axis='log')\nplt.title('Percussive')\nplt.yticks([]), plt.ylabel('')\n\nplt.subplot(5, 2, 3)\nlibrosa.display.specshow(librosa.amplitude_to_db(D_harmonic2, ref=rp), y_axis='log')\nplt.yticks([])\nplt.ylabel('margin=2')\n\nplt.subplot(5, 2, 4)\nlibrosa.display.specshow(librosa.amplitude_to_db(D_percussive2, ref=rp), y_axis='log')\nplt.yticks([]) ,plt.ylabel('')\n\nplt.subplot(5, 2, 5)\nlibrosa.display.specshow(librosa.amplitude_to_db(D_harmonic4, ref=rp), y_axis='log')\nplt.yticks([])\nplt.ylabel('margin=4')\n\nplt.subplot(5, 2, 6)\nlibrosa.display.specshow(librosa.amplitude_to_db(D_percussive4, ref=rp), y_axis='log')\nplt.yticks([]), plt.ylabel('')\n\nplt.subplot(5, 2, 7)\nlibrosa.display.specshow(librosa.amplitude_to_db(D_harmonic8, ref=rp), y_axis='log')\nplt.yticks([])\nplt.ylabel('margin=8')\n\nplt.subplot(5, 2, 8)\nlibrosa.display.specshow(librosa.amplitude_to_db(D_percussive8, ref=rp), y_axis='log')\nplt.yticks([]), plt.ylabel('')\n\nplt.subplot(5, 2, 9)\nlibrosa.display.specshow(librosa.amplitude_to_db(D_harmonic16, ref=rp), y_axis='log')\nplt.yticks([])\nplt.ylabel('margin=16')\n\nplt.subplot(5, 2, 10)\nlibrosa.display.specshow(librosa.amplitude_to_db(D_percussive16, ref=rp), y_axis='log')\nplt.yticks([]), plt.ylabel('')\n\nplt.tight_layout()\nplt.show()"
      ],
      "execution_count": null,
      "metadata": {
        "collapsed": false
      }
    }
  ],
  "nbformat": 4,
  "nbformat_minor": 0,
  "metadata": {
    "language_info": {
      "codemirror_mode": {
        "name": "ipython",
        "version": 3
      },
      "mimetype": "text/x-python",
      "name": "python",
      "version": "3.5.3",
      "file_extension": ".py",
      "nbconvert_exporter": "python",
      "pygments_lexer": "ipython3"
    },
    "kernelspec": {
      "name": "python3",
      "language": "python",
      "display_name": "Python 3"
    }
  }
}