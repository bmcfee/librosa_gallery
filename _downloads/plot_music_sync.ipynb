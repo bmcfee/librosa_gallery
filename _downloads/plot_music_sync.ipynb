{
  "cells": [
    {
      "source": [
        "%matplotlib inline"
      ],
      "execution_count": null,
      "cell_type": "code",
      "metadata": {
        "collapsed": false
      },
      "outputs": []
    },
    {
      "source": [
        "\n# Music Synchronization with Dynamic Time Warping\n\n\nIn this short tutorial, we demonstrate the use of dynamic time warping (DTW) for music synchronization\nwhich is implemented in `librosa`.\n\nWe assume that you are familiar with the algorithm and focus on the application. Further information about\nthe algorithm can be found in the literature, e. g. [1].\n\nOur example consists of two recordings of the first bars of the famous\nbrass section lick in Stevie Wonder's rendition of \"Sir Duke\".\nDue to differences in tempo, the first recording lasts for ca. 7 seconds and the second recording for ca. 5 seconds.\nOur objective is now to find an alignment between these two recordings by using DTW.\n\n\n"
      ],
      "cell_type": "markdown",
      "metadata": {}
    },
    {
      "source": [
        "# Code source: Stefan Balke\n# License: ISC\n# sphinx_gallery_thumbnail_number = 4\n\nfrom __future__ import print_function\nimport numpy as np\nimport matplotlib\nimport matplotlib.pyplot as plt\n\nimport librosa\nimport librosa.display"
      ],
      "execution_count": null,
      "cell_type": "code",
      "metadata": {
        "collapsed": false
      },
      "outputs": []
    },
    {
      "source": [
        "---------------------\nLoad Audio Recordings\n---------------------\nFirst, let's load a first version of our audio recordings.\n\n"
      ],
      "cell_type": "markdown",
      "metadata": {}
    },
    {
      "source": [
        "x_1, fs = librosa.load('audio/sir_duke_slow.mp3')\nplt.figure(figsize=(16, 4))\nlibrosa.display.waveplot(x_1, sr=fs)\nplt.title('Slower Version $X_1$')\nplt.tight_layout()"
      ],
      "execution_count": null,
      "cell_type": "code",
      "metadata": {
        "collapsed": false
      },
      "outputs": []
    },
    {
      "source": [
        "And a second version, slightly faster.\n\n"
      ],
      "cell_type": "markdown",
      "metadata": {}
    },
    {
      "source": [
        "x_2, fs = librosa.load('audio/sir_duke_fast.mp3')\nplt.figure(figsize=(16, 4))\nlibrosa.display.waveplot(x_2, sr=fs)\nplt.title('Faster Version $X_2$')\nplt.tight_layout()"
      ],
      "execution_count": null,
      "cell_type": "code",
      "metadata": {
        "collapsed": false
      },
      "outputs": []
    },
    {
      "source": [
        "-----------------------\nExtract Chroma Features\n-----------------------\n\n"
      ],
      "cell_type": "markdown",
      "metadata": {}
    },
    {
      "source": [
        "n_fft = 4410\nhop_size = 2205\n\nx_1_chroma = librosa.feature.chroma_stft(y=x_1, sr=fs, tuning=0, norm=2,\n                                         hop_length=hop_size, n_fft=n_fft)\nx_2_chroma = librosa.feature.chroma_stft(y=x_2, sr=fs, tuning=0, norm=2,\n                                         hop_length=hop_size, n_fft=n_fft)\n\nplt.figure(figsize=(16, 8))\nplt.subplot(2, 1, 1)\nplt.title('Chroma Representation of $X_1$')\nlibrosa.display.specshow(x_1_chroma, x_axis='time',\n                         y_axis='chroma', cmap='gray_r', hop_length=hop_size)\nplt.colorbar()\nplt.subplot(2, 1, 2)\nplt.title('Chroma Representation of $X_2$')\nlibrosa.display.specshow(x_2_chroma, x_axis='time',\n                         y_axis='chroma', cmap='gray_r', hop_length=hop_size)\nplt.colorbar()\nplt.tight_layout()"
      ],
      "execution_count": null,
      "cell_type": "code",
      "metadata": {
        "collapsed": false
      },
      "outputs": []
    },
    {
      "source": [
        "----------------------\nAlign Chroma Sequences\n----------------------\n\n"
      ],
      "cell_type": "markdown",
      "metadata": {}
    },
    {
      "source": [
        "D, wp = librosa.core.dtw(X=x_1_chroma, Y=x_2_chroma, metric='cosine')\nwp_s = np.asarray(wp) * hop_size / fs\n\nfig = plt.figure(figsize=(10, 10))\nax = fig.add_subplot(111)\nlibrosa.display.specshow(D, x_axis='time', y_axis='time',\n                         cmap='gray_r', hop_length=hop_size)\nimax = ax.imshow(D, cmap=plt.get_cmap('gray_r'),\n                 origin='lower', interpolation='nearest', aspect='auto')\nax.plot(wp_s[:, 1], wp_s[:, 0], marker='o', color='r')\nplt.title('Warping Path on Acc. Cost Matrix $D$')\nplt.colorbar()"
      ],
      "execution_count": null,
      "cell_type": "code",
      "metadata": {
        "collapsed": false
      },
      "outputs": []
    },
    {
      "source": [
        "--------------------------------------------\nAlternative Visualization in the Time Domain\n--------------------------------------------\n\nWe can also visualize the wariping path directly on our time domain signals.\nRed lines connect corresponding time positions in the input signals.\n(Thanks to F. Zalkow for the nice visualization.)\n\n"
      ],
      "cell_type": "markdown",
      "metadata": {}
    },
    {
      "source": [
        "fig = plt.figure(figsize=(16, 8))\n\n# Plot x_1\nplt.subplot(2, 1, 1)\nlibrosa.display.waveplot(x_1, sr=fs)\nplt.title('Slower Version $X_1$')\nax1 = plt.gca()\n\n# Plot x_2\nplt.subplot(2, 1, 2)\nlibrosa.display.waveplot(x_2, sr=fs)\nplt.title('Slower Version $X_2$')\nax2 = plt.gca()\n\nplt.tight_layout()\n\ntrans_figure = fig.transFigure.inverted()\nlines = []\narrows = 30\npoints_idx = np.int16(np.round(np.linspace(0, wp.shape[0] - 1, arrows)))\n\n# for tp1, tp2 in zip((wp[points_idx, 0]) * hop_size, (wp[points_idx, 1]) * hop_size):\nfor tp1, tp2 in wp[points_idx] * hop_size / fs:\n    # get position on axis for a given index-pair\n    coord1 = trans_figure.transform(ax1.transData.transform([tp1, 0]))\n    coord2 = trans_figure.transform(ax2.transData.transform([tp2, 0]))\n\n    # draw a line\n    line = matplotlib.lines.Line2D((coord1[0], coord2[0]),\n                                   (coord1[1], coord2[1]),\n                                   transform=fig.transFigure,\n                                   color='r')\n    lines.append(line)\n\nfig.lines = lines\nplt.tight_layout()"
      ],
      "execution_count": null,
      "cell_type": "code",
      "metadata": {
        "collapsed": false
      },
      "outputs": []
    },
    {
      "source": [
        "-------------\nNext steps...\n-------------\n\nAlright, you might ask where to go from here.\nOnce we have the warping path between our two signals,\nwe could realize different applications.\nOne example is a player which enables you to navigate between\ndifferent recordings of the same piece of music,\ne.g. one of Wagner's symphonies played by an orchestra or in a piano-reduced version.\n\nAnother example is that you could apply time scale modification algorithms,\ne.g. speed up the slower signal to the tempo of the faster one.\n\n----------\nLiterature\n----------\n\n[1] Meinard M\u00fcller, Fundamentals of Music Processing \u2014 Audio, Analysis, Algorithms, Applications.\nSpringer Verlag, 2015.\n\n"
      ],
      "cell_type": "markdown",
      "metadata": {}
    }
  ],
  "metadata": {
    "kernelspec": {
      "name": "python3",
      "language": "python",
      "display_name": "Python 3"
    },
    "language_info": {
      "pygments_lexer": "ipython3",
      "nbconvert_exporter": "python",
      "file_extension": ".py",
      "mimetype": "text/x-python",
      "name": "python",
      "version": "3.5.3",
      "codemirror_mode": {
        "name": "ipython",
        "version": 3
      }
    }
  },
  "nbformat": 4,
  "nbformat_minor": 0
}