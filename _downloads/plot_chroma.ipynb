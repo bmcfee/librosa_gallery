{
  "cells": [
    {
      "source": [
        "%matplotlib inline"
      ],
      "execution_count": null,
      "cell_type": "code",
      "metadata": {
        "collapsed": false
      },
      "outputs": []
    },
    {
      "source": [
        "\n# Enhanced chroma\n\n\nThis notebook demonstrates a variety of techniques for enhancing chroma features.\n\nBeyond the default parameter settings of librosa's chroma functions, we apply the following\nenhancements:\n\n    1. Over-sampling the frequency axis to reduce sensitivity to tuning deviations\n    2. Harmonic-percussive-residual source separation to eliminate transients.\n    3. Nearest-neighbor smoothing to eliminate passing tones and sparse noise.  This is inspired by the\n       recurrence-based smoothing technique of\n       `Cho and Bello, 2011 <http://ismir2011.ismir.net/papers/OS8-4.pdf>`_.\n    4. Local median filtering to suppress remaining discontinuities.\n\n"
      ],
      "cell_type": "markdown",
      "metadata": {}
    },
    {
      "source": [
        "# Code source: Brian McFee\n# License: ISC\n# sphinx_gallery_thumbnail_number = 6\n\nfrom __future__ import print_function\nimport numpy as np\nimport scipy\nimport matplotlib.pyplot as plt\n\nimport librosa\nimport librosa.display"
      ],
      "execution_count": null,
      "cell_type": "code",
      "metadata": {
        "collapsed": false
      },
      "outputs": []
    },
    {
      "source": [
        "We'll use a track that has harmonic, melodic, and percussive elements\n\n"
      ],
      "cell_type": "markdown",
      "metadata": {}
    },
    {
      "source": [
        "y, sr = librosa.load('audio/Karissa_Hobbs_-_09_-_Lets_Go_Fishin.mp3')"
      ],
      "execution_count": null,
      "cell_type": "code",
      "metadata": {
        "collapsed": false
      },
      "outputs": []
    },
    {
      "source": [
        "First, let's plot the original chroma\n\n"
      ],
      "cell_type": "markdown",
      "metadata": {}
    },
    {
      "source": [
        "chroma_orig = librosa.feature.chroma_cqt(y=y, sr=sr)\n\n# For display purposes, let's zoom in on a 15-second chunk from the middle of the song\nidx = [slice(None), slice(*list(librosa.time_to_frames([45, 60])))]\n\n# And for comparison, we'll show the CQT matrix as well.\nC = np.abs(librosa.cqt(y=y, sr=sr, bins_per_octave=12*3, n_bins=7*12*3))\n\n\nplt.figure(figsize=(12, 4))\nplt.subplot(2, 1, 1)\nlibrosa.display.specshow(librosa.amplitude_to_db(C, ref=np.max)[idx],\n                         y_axis='cqt_note', bins_per_octave=12*3)\nplt.colorbar()\nplt.subplot(2, 1, 2)\nlibrosa.display.specshow(chroma_orig[idx], y_axis='chroma')\nplt.colorbar()\nplt.ylabel('Original')\nplt.tight_layout()"
      ],
      "execution_count": null,
      "cell_type": "code",
      "metadata": {
        "collapsed": false
      },
      "outputs": []
    },
    {
      "source": [
        "We can correct for minor tuning deviations by using 3 CQT\nbins per semi-tone, instead of one\n\n"
      ],
      "cell_type": "markdown",
      "metadata": {}
    },
    {
      "source": [
        "chroma_os = librosa.feature.chroma_cqt(y=y, sr=sr, bins_per_octave=12*3)\n\n\nplt.figure(figsize=(12, 4))\n\nplt.subplot(2, 1, 1)\nlibrosa.display.specshow(chroma_orig[idx], y_axis='chroma')\nplt.colorbar()\nplt.ylabel('Original')\n\n\nplt.subplot(2, 1, 2)\nlibrosa.display.specshow(chroma_os[idx], y_axis='chroma', x_axis='time')\nplt.colorbar()\nplt.ylabel('3x-over')\nplt.tight_layout()"
      ],
      "execution_count": null,
      "cell_type": "code",
      "metadata": {
        "collapsed": false
      },
      "outputs": []
    },
    {
      "source": [
        "That cleaned up some rough edges, but we can do better\nby isolating the harmonic component.\nWe'll use a large margin for separating harmonics from percussives\n\n"
      ],
      "cell_type": "markdown",
      "metadata": {}
    },
    {
      "source": [
        "y_harm = librosa.effects.harmonic(y=y, margin=8)\nchroma_os_harm = librosa.feature.chroma_cqt(y=y_harm, sr=sr, bins_per_octave=12*3)\n\n\nplt.figure(figsize=(12, 4))\n\nplt.subplot(2, 1, 1)\nlibrosa.display.specshow(chroma_os[idx], y_axis='chroma')\nplt.colorbar()\nplt.ylabel('3x-over')\n\nplt.subplot(2, 1, 2)\nlibrosa.display.specshow(chroma_os_harm[idx], y_axis='chroma', x_axis='time')\nplt.colorbar()\nplt.ylabel('Harmonic')\nplt.tight_layout()"
      ],
      "execution_count": null,
      "cell_type": "code",
      "metadata": {
        "collapsed": false
      },
      "outputs": []
    },
    {
      "source": [
        "There's still some noise in there though.\nWe can clean it up using non-local filtering.\nThis effectively removes any sparse additive noise from the features.\n\n"
      ],
      "cell_type": "markdown",
      "metadata": {}
    },
    {
      "source": [
        "chroma_filter = np.minimum(chroma_os_harm,\n                           librosa.decompose.nn_filter(chroma_os_harm,\n                                                       aggregate=np.median,\n                                                       metric='cosine'))\n\n\nplt.figure(figsize=(12, 4))\n\nplt.subplot(2, 1, 1)\nlibrosa.display.specshow(chroma_os_harm[idx], y_axis='chroma')\nplt.colorbar()\nplt.ylabel('Harmonic')\n\nplt.subplot(2, 1, 2)\nlibrosa.display.specshow(chroma_filter[idx], y_axis='chroma', x_axis='time')\nplt.colorbar()\nplt.ylabel('Non-local')\nplt.tight_layout()"
      ],
      "execution_count": null,
      "cell_type": "code",
      "metadata": {
        "collapsed": false
      },
      "outputs": []
    },
    {
      "source": [
        "Local discontinuities and transients can be suppressed by\nusing a horizontal median filter.\n\n"
      ],
      "cell_type": "markdown",
      "metadata": {}
    },
    {
      "source": [
        "chroma_smooth = scipy.ndimage.median_filter(chroma_filter, size=(1, 9))\n\n\nplt.figure(figsize=(12, 4))\n\nplt.subplot(2, 1, 1)\nlibrosa.display.specshow(chroma_filter[idx], y_axis='chroma')\nplt.colorbar()\nplt.ylabel('Non-local')\n\nplt.subplot(2, 1, 2)\nlibrosa.display.specshow(chroma_smooth[idx], y_axis='chroma', x_axis='time')\nplt.colorbar()\nplt.ylabel('Median-filtered')\nplt.tight_layout()"
      ],
      "execution_count": null,
      "cell_type": "code",
      "metadata": {
        "collapsed": false
      },
      "outputs": []
    },
    {
      "source": [
        "A final comparison between the CQT, original chromagram\nand the result of our filtering.\n\n"
      ],
      "cell_type": "markdown",
      "metadata": {}
    },
    {
      "source": [
        "plt.figure(figsize=(12, 8))\nplt.subplot(3, 1, 1)\nlibrosa.display.specshow(librosa.amplitude_to_db(C, ref=np.max)[idx],\n                         y_axis='cqt_note', bins_per_octave=12*3)\nplt.colorbar()\nplt.ylabel('CQT')\nplt.subplot(3, 1, 2)\nlibrosa.display.specshow(chroma_orig[idx], y_axis='chroma')\nplt.ylabel('Original')\nplt.colorbar()\nplt.subplot(3, 1, 3)\nlibrosa.display.specshow(chroma_smooth[idx], y_axis='chroma', x_axis='time')\nplt.ylabel('Processed')\nplt.colorbar()\nplt.tight_layout()\nplt.show()"
      ],
      "execution_count": null,
      "cell_type": "code",
      "metadata": {
        "collapsed": false
      },
      "outputs": []
    }
  ],
  "metadata": {
    "kernelspec": {
      "name": "python3",
      "language": "python",
      "display_name": "Python 3"
    },
    "language_info": {
      "pygments_lexer": "ipython3",
      "nbconvert_exporter": "python",
      "file_extension": ".py",
      "mimetype": "text/x-python",
      "name": "python",
      "version": "3.5.3",
      "codemirror_mode": {
        "name": "ipython",
        "version": 3
      }
    }
  },
  "nbformat": 4,
  "nbformat_minor": 0
}